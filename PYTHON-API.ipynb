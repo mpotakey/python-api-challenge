{
 "cells": [
  {
   "cell_type": "code",
   "execution_count": 27,
   "metadata": {},
   "outputs": [],
   "source": [
    "import matplotlib.pyplot as plt\n",
    "import pandas as pd\n",
    "import numpy as np\n",
    "import requests\n",
    "import time\n",
    "from scipy.stats import linregress\n",
    "import requests\n",
    "\n",
    "api_key = '439d4b804bc8187953eb36d2a8c26a02'\n",
    "\n",
    "# Incorporated citipy to determine city based on latitude and longitude\n",
    "from citipy import citipy\n",
    "\n",
    "# Output File (CSV)\n",
    "output_data_file = \"output_data/cities.csv\"\n",
    "\n",
    "# Range of latitudes and longitudes\n",
    "lat_range = (-90, 90)\n",
    "lng_range = (-180, 180)"
   ]
  },
  {
   "cell_type": "code",
   "execution_count": 2,
   "metadata": {},
   "outputs": [
    {
     "data": {
      "text/plain": [
       "606"
      ]
     },
     "execution_count": 2,
     "metadata": {},
     "output_type": "execute_result"
    }
   ],
   "source": [
    "lat_lngs = []\n",
    "cities = []\n",
    "\n",
    "# Create a set of random lat and lng combinations\n",
    "lat = np.random.uniform(low=-90.000, high=90.000, size=1500)\n",
    "long = np.random.uniform(low=-180.000, high=180.000, size=1500)\n",
    "lat_lngs = zip(lat, long)\n",
    "\n",
    "# Identify nearest city for each lat, lng combination\n",
    "for lat_lng in lat_lngs:\n",
    "    city = citipy.nearest_city(lat_lng[0], lat_lng[1]).city_name\n",
    "    \n",
    "    # If the city is unique, then add it to a our cities list\n",
    "    if city not in cities:\n",
    "        cities.append(city)\n",
    "\n",
    "# Print the city count to confirm sufficient count\n",
    "len(cities)"
   ]
  },
  {
   "cell_type": "code",
   "execution_count": 3,
   "metadata": {},
   "outputs": [],
   "source": [
    "url = \"https://samples.openweathermap.org/data/2.5/box/city?bbox=12,32,15,37,10&appid=439d4b804bc8187953eb36d2a8c26a02\""
   ]
  },
  {
   "cell_type": "code",
   "execution_count": 4,
   "metadata": {
    "scrolled": true
   },
   "outputs": [],
   "source": [
    "url_response = requests.get(url)"
   ]
  },
  {
   "cell_type": "code",
   "execution_count": 5,
   "metadata": {},
   "outputs": [
    {
     "name": "stdout",
     "output_type": "stream",
     "text": [
      "<Response [200]>\n"
     ]
    }
   ],
   "source": [
    "print(url_response) "
   ]
  },
  {
   "cell_type": "code",
   "execution_count": 6,
   "metadata": {
    "scrolled": true
   },
   "outputs": [
    {
     "name": "stdout",
     "output_type": "stream",
     "text": [
      "{'cod': '200', 'calctime': 0.3107, 'cnt': 15, 'list': [{'id': 2208791, 'name': 'Yafran', 'coord': {'lon': 12.52859, 'lat': 32.06329}, 'main': {'temp': 9.68, 'temp_min': 9.681, 'temp_max': 9.681, 'pressure': 961.02, 'sea_level': 1036.82, 'grnd_level': 961.02, 'humidity': 85}, 'dt': 1485784982, 'wind': {'speed': 3.96, 'deg': 356.5}, 'rain': {'3h': 0.255}, 'clouds': {'all': 88}, 'weather': [{'id': 500, 'main': 'Rain', 'description': 'light rain', 'icon': '10d'}]}, {'id': 2208425, 'name': 'Zuwarah', 'coord': {'lon': 12.08199, 'lat': 32.931198}, 'main': {'temp': 15.36, 'temp_min': 15.356, 'temp_max': 15.356, 'pressure': 1036.81, 'sea_level': 1037.79, 'grnd_level': 1036.81, 'humidity': 89}, 'dt': 1485784982, 'wind': {'speed': 5.46, 'deg': 30.0002}, 'clouds': {'all': 56}, 'weather': [{'id': 803, 'main': 'Clouds', 'description': 'broken clouds', 'icon': '04d'}]}, {'id': 2212771, 'name': 'Sabratah', 'coord': {'lon': 12.48845, 'lat': 32.79335}, 'main': {'temp': 15.31, 'temp_min': 15.306, 'temp_max': 15.306, 'pressure': 1037.05, 'sea_level': 1037.55, 'grnd_level': 1037.05, 'humidity': 100}, 'dt': 1485784982, 'wind': {'speed': 6.71, 'deg': 28.5002}, 'clouds': {'all': 92}, 'weather': [{'id': 804, 'main': 'Clouds', 'description': 'overcast clouds', 'icon': '04d'}]}, {'id': 2217362, 'name': 'Gharyan', 'coord': {'lon': 13.02028, 'lat': 32.172218}, 'main': {'temp': 11.23, 'temp_min': 11.231, 'temp_max': 11.231, 'pressure': 1004.23, 'sea_level': 1037.06, 'grnd_level': 1004.23, 'humidity': 90}, 'dt': 1485784982, 'wind': {'speed': 3.86, 'deg': 16.5002}, 'rain': {'3h': 1.29}, 'clouds': {'all': 92}, 'weather': [{'id': 500, 'main': 'Rain', 'description': 'light rain', 'icon': '10d'}]}, {'id': 2216885, 'name': 'Zawiya', 'coord': {'lon': 12.72778, 'lat': 32.75222}, 'main': {'temp': 17, 'pressure': 1024, 'humidity': 55, 'temp_min': 17, 'temp_max': 17}, 'dt': 1485784982, 'wind': {'speed': 3.6, 'deg': 10}, 'clouds': {'all': 40}, 'weather': [{'id': 802, 'main': 'Clouds', 'description': 'scattered clouds', 'icon': '03d'}]}, {'id': 2210247, 'name': 'Tripoli', 'coord': {'lon': 13.18746, 'lat': 32.875191}, 'main': {'temp': 16, 'pressure': 1025, 'humidity': 59, 'temp_min': 16, 'temp_max': 16}, 'dt': 1485781822, 'wind': {'speed': 3.6, 'deg': 360}, 'clouds': {'all': 40}, 'weather': [{'id': 802, 'main': 'Clouds', 'description': 'scattered clouds', 'icon': '03d'}]}, {'id': 2210221, 'name': 'Tarhuna', 'coord': {'lon': 13.6332, 'lat': 32.43502}, 'main': {'temp': 17, 'pressure': 1024, 'humidity': 55, 'temp_min': 17, 'temp_max': 17}, 'dt': 1485784982, 'wind': {'speed': 3.6, 'deg': 10}, 'clouds': {'all': 40}, 'weather': [{'id': 802, 'main': 'Clouds', 'description': 'scattered clouds', 'icon': '03d'}]}, {'id': 2215163, 'name': 'Masallatah', 'coord': {'lon': 14, 'lat': 32.616669}, 'main': {'temp': 12.86, 'temp_min': 12.856, 'temp_max': 12.856, 'pressure': 1000.17, 'sea_level': 1036.49, 'grnd_level': 1000.17, 'humidity': 73}, 'dt': 1485784982, 'wind': {'speed': 4.81, 'deg': 16.5002}, 'rain': {'3h': 0.39}, 'clouds': {'all': 88}, 'weather': [{'id': 500, 'main': 'Rain', 'description': 'light rain', 'icon': '10d'}]}, {'id': 2219905, 'name': 'Al Khums', 'coord': {'lon': 14.26191, 'lat': 32.648609}, 'main': {'temp': 15.18, 'temp_min': 15.181, 'temp_max': 15.181, 'pressure': 1023.35, 'sea_level': 1036.01, 'grnd_level': 1023.35, 'humidity': 73}, 'dt': 1485784982, 'wind': {'speed': 5.26, 'deg': 26.0002}, 'clouds': {'all': 88}, 'weather': [{'id': 804, 'main': 'Clouds', 'description': 'overcast clouds', 'icon': '04d'}]}, {'id': 2208485, 'name': 'Zlitan', 'coord': {'lon': 14.56874, 'lat': 32.467381}, 'main': {'temp': 15.18, 'temp_min': 15.181, 'temp_max': 15.181, 'pressure': 1023.35, 'sea_level': 1036.01, 'grnd_level': 1023.35, 'humidity': 73}, 'dt': 1485784982, 'wind': {'speed': 5.26, 'deg': 26.0002}, 'clouds': {'all': 88}, 'weather': [{'id': 804, 'main': 'Clouds', 'description': 'overcast clouds', 'icon': '04d'}]}, {'id': 2563191, 'name': 'Birkirkara', 'coord': {'lon': 14.46111, 'lat': 35.897221}, 'main': {'temp': 14, 'pressure': 1023, 'humidity': 62, 'temp_min': 14, 'temp_max': 14}, 'dt': 1485784991, 'wind': {'speed': 4.1, 'deg': 10, 'var_beg': 330, 'var_end': 30}, 'clouds': {'all': 40}, 'weather': [{'id': 802, 'main': 'Clouds', 'description': 'scattered clouds', 'icon': '03d'}]}, {'id': 2523650, 'name': 'Ragusa', 'coord': {'lon': 14.71719, 'lat': 36.928242}, 'main': {'temp': 14.54, 'pressure': 1022, 'humidity': 50, 'temp_min': 13, 'temp_max': 16}, 'dt': 1485781816, 'wind': {'speed': 3.1, 'deg': 20, 'var_beg': 350, 'var_end': 60}, 'clouds': {'all': 20}, 'weather': [{'id': 801, 'main': 'Clouds', 'description': 'few clouds', 'icon': '02d'}]}, {'id': 2523693, 'name': 'Pozzallo', 'coord': {'lon': 14.84989, 'lat': 36.730541}, 'main': {'temp': 14, 'pressure': 1022, 'humidity': 50, 'temp_min': 14, 'temp_max': 14}, 'dt': 1485781816, 'wind': {'speed': 3.1, 'deg': 20, 'var_beg': 350, 'var_end': 60}, 'clouds': {'all': 20}, 'weather': [{'id': 801, 'main': 'Clouds', 'description': 'few clouds', 'icon': '02d'}]}, {'id': 2524119, 'name': 'Modica', 'coord': {'lon': 14.77399, 'lat': 36.84594}, 'main': {'temp': 15.74, 'pressure': 1022, 'humidity': 47, 'temp_min': 14, 'temp_max': 17}, 'dt': 1485785168, 'wind': {'speed': 2.1, 'deg': 0}, 'clouds': {'all': 40}, 'weather': [{'id': 802, 'main': 'Clouds', 'description': 'scattered clouds', 'icon': '03d'}]}, {'id': 2523581, 'name': 'Rosolini', 'coord': {'lon': 14.94779, 'lat': 36.824242}, 'main': {'temp': 15.62, 'pressure': 1022, 'humidity': 47, 'temp_min': 14, 'temp_max': 17}, 'dt': 1485784979, 'wind': {'speed': 2.1, 'deg': 0}, 'clouds': {'all': 40}, 'weather': [{'id': 802, 'main': 'Clouds', 'description': 'scattered clouds', 'icon': '03d'}]}]}\n"
     ]
    }
   ],
   "source": [
    "response = url_response.json()\n",
    "response\n",
    "data_of_cities = []\n",
    "check_count = 1\n",
    "setter = 1\n",
    "print(response)"
   ]
  },
  {
   "cell_type": "code",
   "execution_count": 7,
   "metadata": {},
   "outputs": [],
   "source": [
    "info = response[\"list\"]\n",
    "info_length = len(info)"
   ]
  },
  {
   "cell_type": "code",
   "execution_count": 8,
   "metadata": {
    "scrolled": true
   },
   "outputs": [],
   "source": [
    "info = response[\"list\"]\n",
    "for key in (info):\n",
    "    ci_lat = key[\"coord\"][\"lat\"]\n",
    "    ci_lng = key[\"coord\"][\"lon\"]\n",
    "    max_temp = key[\"main\"][\"temp_max\"]\n",
    "    humidity = key[\"main\"][\"humidity\"]\n",
    "    clouds = key[\"clouds\"][\"all\"]\n",
    "    wind = key[\"wind\"][\"speed\"]\n",
    "    country = key[\"name\"]\n",
    "    date = key[\"dt\"]\n",
    "    data_of_cities.append({ \"City\": city,\n",
    "                            \"lat\": ci_lat,\n",
    "                            \"lng\": ci_lng,\n",
    "                       \"Max Temp\": max_temp,\n",
    "                       \"Humidity\": humidity,\n",
    "                     \"Cloudiness\": clouds,\n",
    "                     \"Wind Speed\": wind,\n",
    "                        \"Country\": country,\n",
    "                           \"Date\":date})\n",
    "df = pd.DataFrame(data_of_cities)\n",
    "new_df = df.set_index('Country')"
   ]
  },
  {
   "cell_type": "code",
   "execution_count": 9,
   "metadata": {},
   "outputs": [],
   "source": [
    "new_df = df.set_index('Country')"
   ]
  },
  {
   "cell_type": "code",
   "execution_count": 10,
   "metadata": {},
   "outputs": [
    {
     "data": {
      "text/html": [
       "<div>\n",
       "<style scoped>\n",
       "    .dataframe tbody tr th:only-of-type {\n",
       "        vertical-align: middle;\n",
       "    }\n",
       "\n",
       "    .dataframe tbody tr th {\n",
       "        vertical-align: top;\n",
       "    }\n",
       "\n",
       "    .dataframe thead th {\n",
       "        text-align: right;\n",
       "    }\n",
       "</style>\n",
       "<table border=\"1\" class=\"dataframe\">\n",
       "  <thead>\n",
       "    <tr style=\"text-align: right;\">\n",
       "      <th></th>\n",
       "      <th>City</th>\n",
       "      <th>lat</th>\n",
       "      <th>lng</th>\n",
       "      <th>Max Temp in C</th>\n",
       "      <th>Humidity</th>\n",
       "      <th>Cloudiness</th>\n",
       "      <th>Wind Speed</th>\n",
       "      <th>Date</th>\n",
       "    </tr>\n",
       "    <tr>\n",
       "      <th>Country</th>\n",
       "      <th></th>\n",
       "      <th></th>\n",
       "      <th></th>\n",
       "      <th></th>\n",
       "      <th></th>\n",
       "      <th></th>\n",
       "      <th></th>\n",
       "      <th></th>\n",
       "    </tr>\n",
       "  </thead>\n",
       "  <tbody>\n",
       "    <tr>\n",
       "      <th>Yafran</th>\n",
       "      <td>albany</td>\n",
       "      <td>32.063290</td>\n",
       "      <td>12.52859</td>\n",
       "      <td>9.681</td>\n",
       "      <td>85</td>\n",
       "      <td>88</td>\n",
       "      <td>3.96</td>\n",
       "      <td>1485784982</td>\n",
       "    </tr>\n",
       "    <tr>\n",
       "      <th>Zuwarah</th>\n",
       "      <td>albany</td>\n",
       "      <td>32.931198</td>\n",
       "      <td>12.08199</td>\n",
       "      <td>15.356</td>\n",
       "      <td>89</td>\n",
       "      <td>56</td>\n",
       "      <td>5.46</td>\n",
       "      <td>1485784982</td>\n",
       "    </tr>\n",
       "    <tr>\n",
       "      <th>Sabratah</th>\n",
       "      <td>albany</td>\n",
       "      <td>32.793350</td>\n",
       "      <td>12.48845</td>\n",
       "      <td>15.306</td>\n",
       "      <td>100</td>\n",
       "      <td>92</td>\n",
       "      <td>6.71</td>\n",
       "      <td>1485784982</td>\n",
       "    </tr>\n",
       "    <tr>\n",
       "      <th>Gharyan</th>\n",
       "      <td>albany</td>\n",
       "      <td>32.172218</td>\n",
       "      <td>13.02028</td>\n",
       "      <td>11.231</td>\n",
       "      <td>90</td>\n",
       "      <td>92</td>\n",
       "      <td>3.86</td>\n",
       "      <td>1485784982</td>\n",
       "    </tr>\n",
       "    <tr>\n",
       "      <th>Zawiya</th>\n",
       "      <td>albany</td>\n",
       "      <td>32.752220</td>\n",
       "      <td>12.72778</td>\n",
       "      <td>17.000</td>\n",
       "      <td>55</td>\n",
       "      <td>40</td>\n",
       "      <td>3.60</td>\n",
       "      <td>1485784982</td>\n",
       "    </tr>\n",
       "    <tr>\n",
       "      <th>Tripoli</th>\n",
       "      <td>albany</td>\n",
       "      <td>32.875191</td>\n",
       "      <td>13.18746</td>\n",
       "      <td>16.000</td>\n",
       "      <td>59</td>\n",
       "      <td>40</td>\n",
       "      <td>3.60</td>\n",
       "      <td>1485781822</td>\n",
       "    </tr>\n",
       "    <tr>\n",
       "      <th>Tarhuna</th>\n",
       "      <td>albany</td>\n",
       "      <td>32.435020</td>\n",
       "      <td>13.63320</td>\n",
       "      <td>17.000</td>\n",
       "      <td>55</td>\n",
       "      <td>40</td>\n",
       "      <td>3.60</td>\n",
       "      <td>1485784982</td>\n",
       "    </tr>\n",
       "    <tr>\n",
       "      <th>Masallatah</th>\n",
       "      <td>albany</td>\n",
       "      <td>32.616669</td>\n",
       "      <td>14.00000</td>\n",
       "      <td>12.856</td>\n",
       "      <td>73</td>\n",
       "      <td>88</td>\n",
       "      <td>4.81</td>\n",
       "      <td>1485784982</td>\n",
       "    </tr>\n",
       "    <tr>\n",
       "      <th>Al Khums</th>\n",
       "      <td>albany</td>\n",
       "      <td>32.648609</td>\n",
       "      <td>14.26191</td>\n",
       "      <td>15.181</td>\n",
       "      <td>73</td>\n",
       "      <td>88</td>\n",
       "      <td>5.26</td>\n",
       "      <td>1485784982</td>\n",
       "    </tr>\n",
       "    <tr>\n",
       "      <th>Zlitan</th>\n",
       "      <td>albany</td>\n",
       "      <td>32.467381</td>\n",
       "      <td>14.56874</td>\n",
       "      <td>15.181</td>\n",
       "      <td>73</td>\n",
       "      <td>88</td>\n",
       "      <td>5.26</td>\n",
       "      <td>1485784982</td>\n",
       "    </tr>\n",
       "    <tr>\n",
       "      <th>Birkirkara</th>\n",
       "      <td>albany</td>\n",
       "      <td>35.897221</td>\n",
       "      <td>14.46111</td>\n",
       "      <td>14.000</td>\n",
       "      <td>62</td>\n",
       "      <td>40</td>\n",
       "      <td>4.10</td>\n",
       "      <td>1485784991</td>\n",
       "    </tr>\n",
       "    <tr>\n",
       "      <th>Ragusa</th>\n",
       "      <td>albany</td>\n",
       "      <td>36.928242</td>\n",
       "      <td>14.71719</td>\n",
       "      <td>16.000</td>\n",
       "      <td>50</td>\n",
       "      <td>20</td>\n",
       "      <td>3.10</td>\n",
       "      <td>1485781816</td>\n",
       "    </tr>\n",
       "    <tr>\n",
       "      <th>Pozzallo</th>\n",
       "      <td>albany</td>\n",
       "      <td>36.730541</td>\n",
       "      <td>14.84989</td>\n",
       "      <td>14.000</td>\n",
       "      <td>50</td>\n",
       "      <td>20</td>\n",
       "      <td>3.10</td>\n",
       "      <td>1485781816</td>\n",
       "    </tr>\n",
       "    <tr>\n",
       "      <th>Modica</th>\n",
       "      <td>albany</td>\n",
       "      <td>36.845940</td>\n",
       "      <td>14.77399</td>\n",
       "      <td>17.000</td>\n",
       "      <td>47</td>\n",
       "      <td>40</td>\n",
       "      <td>2.10</td>\n",
       "      <td>1485785168</td>\n",
       "    </tr>\n",
       "    <tr>\n",
       "      <th>Rosolini</th>\n",
       "      <td>albany</td>\n",
       "      <td>36.824242</td>\n",
       "      <td>14.94779</td>\n",
       "      <td>17.000</td>\n",
       "      <td>47</td>\n",
       "      <td>40</td>\n",
       "      <td>2.10</td>\n",
       "      <td>1485784979</td>\n",
       "    </tr>\n",
       "  </tbody>\n",
       "</table>\n",
       "</div>"
      ],
      "text/plain": [
       "              City        lat       lng  Max Temp in C  Humidity  Cloudiness  \\\n",
       "Country                                                                        \n",
       "Yafran      albany  32.063290  12.52859          9.681        85          88   \n",
       "Zuwarah     albany  32.931198  12.08199         15.356        89          56   \n",
       "Sabratah    albany  32.793350  12.48845         15.306       100          92   \n",
       "Gharyan     albany  32.172218  13.02028         11.231        90          92   \n",
       "Zawiya      albany  32.752220  12.72778         17.000        55          40   \n",
       "Tripoli     albany  32.875191  13.18746         16.000        59          40   \n",
       "Tarhuna     albany  32.435020  13.63320         17.000        55          40   \n",
       "Masallatah  albany  32.616669  14.00000         12.856        73          88   \n",
       "Al Khums    albany  32.648609  14.26191         15.181        73          88   \n",
       "Zlitan      albany  32.467381  14.56874         15.181        73          88   \n",
       "Birkirkara  albany  35.897221  14.46111         14.000        62          40   \n",
       "Ragusa      albany  36.928242  14.71719         16.000        50          20   \n",
       "Pozzallo    albany  36.730541  14.84989         14.000        50          20   \n",
       "Modica      albany  36.845940  14.77399         17.000        47          40   \n",
       "Rosolini    albany  36.824242  14.94779         17.000        47          40   \n",
       "\n",
       "            Wind Speed        Date  \n",
       "Country                             \n",
       "Yafran            3.96  1485784982  \n",
       "Zuwarah           5.46  1485784982  \n",
       "Sabratah          6.71  1485784982  \n",
       "Gharyan           3.86  1485784982  \n",
       "Zawiya            3.60  1485784982  \n",
       "Tripoli           3.60  1485781822  \n",
       "Tarhuna           3.60  1485784982  \n",
       "Masallatah        4.81  1485784982  \n",
       "Al Khums          5.26  1485784982  \n",
       "Zlitan            5.26  1485784982  \n",
       "Birkirkara        4.10  1485784991  \n",
       "Ragusa            3.10  1485781816  \n",
       "Pozzallo          3.10  1485781816  \n",
       "Modica            2.10  1485785168  \n",
       "Rosolini          2.10  1485784979  "
      ]
     },
     "execution_count": 10,
     "metadata": {},
     "output_type": "execute_result"
    }
   ],
   "source": [
    "new_df"
   ]
  },
  {
   "cell_type": "code",
   "execution_count": 17,
   "metadata": {},
   "outputs": [],
   "source": [
    "new_df\n",
    "wind_df = new_df['Wind Speed']\n",
    "humi = new_df['Humidity']\n",
    "lat = new_df['lat']\n",
    "temp = new_df[\"Max Temp\"]\n",
    "cloud = new_df[\"Cloudiness\"]"
   ]
  },
  {
   "cell_type": "code",
   "execution_count": 29,
   "metadata": {},
   "outputs": [
    {
     "data": {
      "image/png": "[encoded data removed]",
      "text/plain": [
       "<Figure size 432x288 with 1 Axes>"
      ]
     },
     "metadata": {
      "needs_background": "light"
     },
     "output_type": "display_data"
    }
   ],
   "source": [
    "\n",
    "plt.scatter(temp, lat, marker=\"o\", facecolors=\"red\", edgecolors=\"black\", alpha=0.75)\n",
    "plt.title(\"Temp v Lat\")\n",
    "plt.xlabel(\"Temapture\")\n",
    "plt.ylabel(\"Latitude\")\n",
    "plt.savefig(\"output_data/Fig1.png\")"
   ]
  },
  {
   "cell_type": "code",
   "execution_count": 30,
   "metadata": {},
   "outputs": [
    {
     "data": {
      "image/png": "[encoded data removed]",
      "text/plain": [
       "<Figure size 432x288 with 1 Axes>"
      ]
     },
     "metadata": {
      "needs_background": "light"
     },
     "output_type": "display_data"
    }
   ],
   "source": [
    "#Humidity (%) vs. Latitude\n",
    "plt.scatter(humi, lat, marker=\"o\", facecolors=\"red\", edgecolors=\"black\", alpha=0.75)\n",
    "plt.title(\"Humidity (%) vs. Latitude\")\n",
    "plt.xlabel(\"Humidity\")\n",
    "plt.ylabel(\"Latitude\")\n",
    "plt.savefig(\"output_data/Fig2.png\")"
   ]
  },
  {
   "cell_type": "code",
   "execution_count": 31,
   "metadata": {},
   "outputs": [
    {
     "data": {
      "image/png": "[encoded data removed]",
      "text/plain": [
       "<Figure size 432x288 with 1 Axes>"
      ]
     },
     "metadata": {
      "needs_background": "light"
     },
     "output_type": "display_data"
    }
   ],
   "source": [
    "#Cloudiness (%) vs. Latitude\n",
    "plt.scatter(cloud, lat, marker=\"o\", facecolors=\"red\", edgecolors=\"black\", alpha=0.75)\n",
    "plt.title(\"Cloudiness (%) vs. Latitude\")\n",
    "plt.xlabel(\"Cloudliness\")\n",
    "plt.ylabel(\"Latitude\")\n",
    "plt.savefig(\"output_data/Fig3.png\")"
   ]
  },
  {
   "cell_type": "code",
   "execution_count": 32,
   "metadata": {},
   "outputs": [
    {
     "data": {
      "image/png": "[encoded data removed]",
      "text/plain": [
       "<Figure size 432x288 with 1 Axes>"
      ]
     },
     "metadata": {
      "needs_background": "light"
     },
     "output_type": "display_data"
    }
   ],
   "source": [
    "#Wind Speed (mph) vs. Latitude\n",
    "plt.scatter(wind_df, lat, marker=\"o\", facecolors=\"red\", edgecolors=\"black\", alpha=0.75)\n",
    "plt.title(\"Wind Speed (mph) vs. Latitude\")\n",
    "plt.xlabel(\"Wind Speed (mph)\")\n",
    "plt.ylabel(\"Latitude\")\n",
    "plt.savefig(\"output_data/Fig4.png\")"
   ]
  },
  {
   "cell_type": "code",
   "execution_count": 33,
   "metadata": {},
   "outputs": [
    {
     "data": {
      "image/png": "[encoded data removed]",
      "text/plain": [
       "<Figure size 432x288 with 1 Axes>"
      ]
     },
     "metadata": {
      "needs_background": "light"
     },
     "output_type": "display_data"
    }
   ],
   "source": [
    "#Temperature (F) vs. Latitude\n",
    "(slope, intercept, rvalue, pvalue, stderr) = linregress(temp, lat)\n",
    "regress_values = temp * slope + intercept\n",
    "(slope, intercept, rvalue, pvalue, stderr) = linregress(temp, lat)\n",
    "plt.plot(temp,regress_values,\"r-\")\n",
    "plt.scatter(temp, lat, marker=\"o\", facecolors=\"red\", edgecolors=\"black\", alpha=0.75)\n",
    "plt.title(\"Temperature (F) vs. Latitude\")\n",
    "plt.xlabel(\"Temapture\")\n",
    "plt.ylabel(\"Latitude\")\n",
    "plt.savefig(\"output_data/Fig5.png\")"
   ]
  },
  {
   "cell_type": "code",
   "execution_count": 34,
   "metadata": {},
   "outputs": [
    {
     "data": {
      "image/png": "[encoded data removed]",
      "text/plain": [
       "<Figure size 432x288 with 1 Axes>"
      ]
     },
     "metadata": {
      "needs_background": "light"
     },
     "output_type": "display_data"
    }
   ],
   "source": [
    "(slope, intercept, rvalue, pvalue, stderr) = linregress(humi, lat)\n",
    "regress_values = humi * slope + intercept\n",
    "(slope, intercept, rvalue, pvalue, stderr) = linregress(humi, lat)\n",
    "#regression\n",
    "#Humidity (%) vs. Latitude\n",
    "plt.plot(humi,regress_values,\"r-\")\n",
    "plt.scatter(humi, lat, marker=\"o\", facecolors=\"red\", edgecolors=\"black\", alpha=0.75)\n",
    "plt.title(\"Humidity (%) vs. Latitude\")\n",
    "plt.xlabel(\"Humidity\")\n",
    "plt.ylabel(\"Latitude\")\n",
    "plt.savefig(\"output_data/Fig6.png\")"
   ]
  },
  {
   "cell_type": "code",
   "execution_count": 35,
   "metadata": {},
   "outputs": [
    {
     "data": {
      "image/png": "[encoded data removed]",
      "text/plain": [
       "<Figure size 432x288 with 1 Axes>"
      ]
     },
     "metadata": {
      "needs_background": "light"
     },
     "output_type": "display_data"
    }
   ],
   "source": [
    "#Cloudiness (%) vs. Latitude\n",
    "(slope, intercept, rvalue, pvalue, stderr) = linregress(cloud, lat)\n",
    "regress_values = cloud * slope + intercept\n",
    "(slope, intercept, rvalue, pvalue, stderr) = linregress(cloud, lat)\n",
    "plt.plot(cloud,regress_values,\"r-\")\n",
    "plt.scatter(cloud, lat, marker=\"o\", facecolors=\"red\", edgecolors=\"black\", alpha=0.75)\n",
    "plt.title(\"Cloudiness (%) vs. Latitude\")\n",
    "plt.xlabel(\"Cloudliness\")\n",
    "plt.ylabel(\"Latitude\")\n",
    "plt.savefig(\"output_data/Fig7.png\")"
   ]
  },
  {
   "cell_type": "code",
   "execution_count": 36,
   "metadata": {},
   "outputs": [
    {
     "data": {
      "image/png": "[encoded data removed]",
      "text/plain": [
       "<Figure size 432x288 with 1 Axes>"
      ]
     },
     "metadata": {
      "needs_background": "light"
     },
     "output_type": "display_data"
    }
   ],
   "source": [
    "#Wind Speed (mph) vs. Latitude\n",
    "(slope, intercept, rvalue, pvalue, stderr) = linregress(wind_df, lat)\n",
    "regress_values = wind_df * slope + intercept\n",
    "(slope, intercept, rvalue, pvalue, stderr) = linregress(wind_df, lat)\n",
    "plt.plot(wind_df,regress_values,\"r-\")\n",
    "plt.scatter(wind_df, lat, marker=\"o\", facecolors=\"red\", edgecolors=\"black\", alpha=0.75)\n",
    "plt.title(\"Wind Speed (mph) vs. Latitude\")\n",
    "plt.xlabel(\"Wind Speed (mph)\")\n",
    "plt.ylabel(\"Latitude\")\n",
    "plt.savefig(\"output_data/Fig8.png\")"
   ]
  },
  {
   "cell_type": "code",
   "execution_count": 28,
   "metadata": {},
   "outputs": [],
   "source": [
    "new_df.to_csv(output_data_file, index_label=\"Country\")"
   ]
  },
  {
   "cell_type": "code",
   "execution_count": null,
   "metadata": {},
   "outputs": [],
   "source": []
  }
 ],
 "metadata": {
  "kernelspec": {
   "display_name": "Python 3",
   "language": "python",
   "name": "python3"
  },
  "language_info": {
   "codemirror_mode": {
    "name": "ipython",
    "version": 3
   },
   "file_extension": ".py",
   "mimetype": "text/x-python",
   "name": "python",
   "nbconvert_exporter": "python",
   "pygments_lexer": "ipython3",
   "version": "3.7.7"
  }
 },
 "nbformat": 4,
 "nbformat_minor": 4
}
